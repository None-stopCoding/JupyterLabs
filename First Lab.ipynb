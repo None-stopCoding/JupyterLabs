{
 "cells": [
  {
   "cell_type": "markdown",
   "id": "f07ceb7b",
   "metadata": {},
   "source": [
    "# Первое задание"
   ]
  },
  {
   "cell_type": "code",
   "execution_count": 2,
   "id": "bfc9795a",
   "metadata": {},
   "outputs": [],
   "source": [
    "def check_year_is_leap(year):\n",
    "    \"\"\" Метод, проверяющий, является год високосным или нет.\n",
    "        Год является високосным, если он кратен 4, не кратен 100, но все же кратен 400 \"\"\"\n",
    "    \n",
    "    is_leap = (year % 4 == 0) and (year % 100 != 0) or (year % 400 == 0)\n",
    "    print(f\"{'Високосный' if is_leap else 'Обычный'} год\")"
   ]
  },
  {
   "cell_type": "code",
   "execution_count": 4,
   "id": "a8e820ec",
   "metadata": {},
   "outputs": [
    {
     "name": "stdout",
     "output_type": "stream",
     "text": [
      "Високосный год\n"
     ]
    }
   ],
   "source": [
    "check_year_is_leap(2020)"
   ]
  },
  {
   "cell_type": "code",
   "execution_count": 5,
   "id": "a132d48c",
   "metadata": {},
   "outputs": [
    {
     "name": "stdout",
     "output_type": "stream",
     "text": [
      "Обычный год\n"
     ]
    }
   ],
   "source": [
    "check_year_is_leap(2019)"
   ]
  },
  {
   "cell_type": "markdown",
   "id": "21de9fa3",
   "metadata": {},
   "source": [
    "# Второе задание"
   ]
  },
  {
   "cell_type": "code",
   "execution_count": 20,
   "id": "864b19b0",
   "metadata": {},
   "outputs": [],
   "source": [
    "def check_ticket_is_happy(passed_ticket):\n",
    "    \"\"\" Метод, проверяющий, является билет счастливым или нет.\n",
    "        Билет счастливый, если сумма первых трех цифр билета совпадает с суммой трех его последних цифр \"\"\"\n",
    "    \n",
    "    ticket = str(passed_ticket)\n",
    "    if len(ticket) != 6:\n",
    "        print('Некорректный билет')\n",
    "        return\n",
    "    \n",
    "    def get_sum_of_digits(digits):\n",
    "        return sum(map(lambda i: int(i), digits))\n",
    "        \n",
    "    is_happy = get_sum_of_digits(ticket[:3]) == get_sum_of_digits(ticket[3:6])\n",
    "    print(f\"{'Счастливый' if is_happy else 'Несчастливый'} билет\")"
   ]
  },
  {
   "cell_type": "code",
   "execution_count": 22,
   "id": "d4aa363b",
   "metadata": {},
   "outputs": [
    {
     "name": "stdout",
     "output_type": "stream",
     "text": [
      "Несчастливый билет\n"
     ]
    }
   ],
   "source": [
    "check_ticket_is_happy(123456)"
   ]
  },
  {
   "cell_type": "code",
   "execution_count": 23,
   "id": "45397669",
   "metadata": {},
   "outputs": [
    {
     "name": "stdout",
     "output_type": "stream",
     "text": [
      "Счастливый билет\n"
     ]
    }
   ],
   "source": [
    "check_ticket_is_happy(123321)"
   ]
  }
 ],
 "metadata": {
  "kernelspec": {
   "display_name": "Python 3 (ipykernel)",
   "language": "python",
   "name": "python3"
  },
  "language_info": {
   "codemirror_mode": {
    "name": "ipython",
    "version": 3
   },
   "file_extension": ".py",
   "mimetype": "text/x-python",
   "name": "python",
   "nbconvert_exporter": "python",
   "pygments_lexer": "ipython3",
   "version": "3.11.5"
  }
 },
 "nbformat": 4,
 "nbformat_minor": 5
}
