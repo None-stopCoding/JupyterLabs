{
 "cells": [
  {
   "cell_type": "markdown",
   "id": "3737ceb0",
   "metadata": {},
   "source": [
    "# Первое задание"
   ]
  },
  {
   "cell_type": "code",
   "execution_count": null,
   "id": "e5cb068d",
   "metadata": {},
   "outputs": [],
   "source": [
    "# Не свойственное для питона длинное решение, но отображающее его логику\n",
    "def get_middle_of_the_word(word):\n",
    "    chars_count = len(word)\n",
    "    is_odd = chars_count % 2\n",
    "    mid_index = chars_count // 2\n",
    "    # Для нечетных индекс, откуда начинаем - это середина строки\n",
    "    odd_start_mid_index = mid_index\n",
    "    # Для четных индекс, откуда начинаем - это индекс элемента слева от середины строки\n",
    "    even_start_mid_index = mid_index - 1\n",
    "    # Для любой строки концом выборки будет индекс элемента справа от ее середины\n",
    "    end_mid_index = mid_index + 1\n",
    "    \n",
    "    return word[\n",
    "        (odd_start_mid_index if is_odd else even_start_mid_index):\n",
    "        end_mid_index\n",
    "    ]\n",
    "\n",
    "# Есть решение гораздо проще, гуляющее по интернету\n",
    "def simple_solution(word):\n",
    "    return word[(len(word) - 1) // 2:(len(word) + 2) // 2]"
   ]
  },
  {
   "cell_type": "code",
   "execution_count": 54,
   "id": "457586c1",
   "metadata": {},
   "outputs": [
    {
     "data": {
      "text/plain": [
       "'a'"
      ]
     },
     "execution_count": 54,
     "metadata": {},
     "output_type": "execute_result"
    }
   ],
   "source": [
    "get_middle_of_the_word('Lab')"
   ]
  },
  {
   "cell_type": "code",
   "execution_count": 55,
   "id": "c650a2a5",
   "metadata": {},
   "outputs": [
    {
     "data": {
      "text/plain": [
       "'er'"
      ]
     },
     "execution_count": 55,
     "metadata": {},
     "output_type": "execute_result"
    }
   ],
   "source": [
    "get_middle_of_the_word('very')"
   ]
  },
  {
   "cell_type": "code",
   "execution_count": 56,
   "id": "8d227496",
   "metadata": {},
   "outputs": [
    {
     "data": {
      "text/plain": [
       "'ng'"
      ]
     },
     "execution_count": 56,
     "metadata": {},
     "output_type": "execute_result"
    }
   ],
   "source": [
    "get_middle_of_the_word('very_long_string')"
   ]
  },
  {
   "cell_type": "code",
   "execution_count": 59,
   "id": "c3ba1b96",
   "metadata": {},
   "outputs": [
    {
     "data": {
      "text/plain": [
       "''"
      ]
     },
     "execution_count": 59,
     "metadata": {},
     "output_type": "execute_result"
    }
   ],
   "source": [
    "get_middle_of_the_word('')"
   ]
  },
  {
   "cell_type": "markdown",
   "id": "7c59a93f",
   "metadata": {},
   "source": [
    "# Второе задание"
   ]
  },
  {
   "cell_type": "code",
   "execution_count": 81,
   "id": "aa70118c",
   "metadata": {},
   "outputs": [],
   "source": [
    "def meet_couples(boys, girls):\n",
    "    if len(boys) != len(girls):\n",
    "        return print('Внимание, кто-то может остаться без пары!')\n",
    "    \n",
    "    if not len(boys):\n",
    "        return print('К сожалению, нет людей для dating-а')\n",
    "    \n",
    "    print('Идеальные пары:')\n",
    "    [print(f'{boy} и {girl}') for [boy, girl] in list(zip(sorted(boys), sorted(girls)))]"
   ]
  },
  {
   "cell_type": "code",
   "execution_count": 82,
   "id": "1ea1392c",
   "metadata": {},
   "outputs": [
    {
     "name": "stdout",
     "output_type": "stream",
     "text": [
      "Идеальные пары:\n",
      "Alex и Emma\n",
      "Arthur и Kate\n",
      "John и Kira\n",
      "Peter и Liza\n",
      "Richard и Trisha\n"
     ]
    }
   ],
   "source": [
    "boys = ['Peter', 'Alex', 'John', 'Arthur', 'Richard']\n",
    "girls = ['Kate', 'Liza', 'Kira', 'Emma', 'Trisha']\n",
    "meet_couples(boys, girls)"
   ]
  },
  {
   "cell_type": "code",
   "execution_count": 83,
   "id": "c6e9e751",
   "metadata": {},
   "outputs": [
    {
     "name": "stdout",
     "output_type": "stream",
     "text": [
      "Внимание, кто-то может остаться без пары!\n"
     ]
    }
   ],
   "source": [
    "boys = ['Peter', 'Alex', 'John', 'Arthur', 'Richard', 'Michael']\n",
    "girls = ['Kate', 'Liza', 'Kira', 'Emma', 'Trisha']\n",
    "meet_couples(boys, girls)"
   ]
  },
  {
   "cell_type": "code",
   "execution_count": 84,
   "id": "8cb64ec7",
   "metadata": {},
   "outputs": [
    {
     "name": "stdout",
     "output_type": "stream",
     "text": [
      "К сожалению, нет людей для dating-а\n"
     ]
    }
   ],
   "source": [
    "boys = []\n",
    "girls = []\n",
    "meet_couples(boys, girls)"
   ]
  }
 ],
 "metadata": {
  "kernelspec": {
   "display_name": "Python 3 (ipykernel)",
   "language": "python",
   "name": "python3"
  },
  "language_info": {
   "codemirror_mode": {
    "name": "ipython",
    "version": 3
   },
   "file_extension": ".py",
   "mimetype": "text/x-python",
   "name": "python",
   "nbconvert_exporter": "python",
   "pygments_lexer": "ipython3",
   "version": "3.7.4"
  }
 },
 "nbformat": 4,
 "nbformat_minor": 5
}
