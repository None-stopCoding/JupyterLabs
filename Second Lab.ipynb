{
 "cells": [
  {
   "cell_type": "code",
   "execution_count": 53,
   "id": "1e54ffcb",
   "metadata": {},
   "outputs": [],
   "source": [
    "# Не свойственное для питона длинное решение, но отображающее его логику\n",
    "def get_middle_of_the_word(word):\n",
    "    chars_count = len(word)\n",
    "    is_odd = chars_count % 2\n",
    "    mid_index = chars_count // 2\n",
    "    # Для нечетных индекс, откуда начинаем - это середина строки\n",
    "    odd_start_mid_index = mid_index\n",
    "    # Для четных индекс, откуда начинаем - это индекс элемента слева от середины строки\n",
    "    even_start_mid_index = mid_index - 1\n",
    "    # Для любой строки концом выборки будет индекс элемента справа от ее середины\n",
    "    end_mid_index = mid_index + 1\n",
    "    \n",
    "    return word[\n",
    "        (odd_start_mid_index if is_odd else even_start_mid_index):\n",
    "        end_mid_index\n",
    "    ]\n",
    "\n",
    "# Есть решение гораздо проще, гуляющее по интернету\n",
    "def simple_solution(word):\n",
    "    return word[(len(word) - 1) // 2:(len(word) + 2) // 2]"
   ]
  },
  {
   "cell_type": "code",
   "execution_count": 54,
   "id": "ac664b05",
   "metadata": {},
   "outputs": [
    {
     "data": {
      "text/plain": [
       "'a'"
      ]
     },
     "execution_count": 54,
     "metadata": {},
     "output_type": "execute_result"
    }
   ],
   "source": [
    "get_middle_of_the_word('Lab')"
   ]
  },
  {
   "cell_type": "code",
   "execution_count": 55,
   "id": "57ad26cc",
   "metadata": {},
   "outputs": [
    {
     "data": {
      "text/plain": [
       "'er'"
      ]
     },
     "execution_count": 55,
     "metadata": {},
     "output_type": "execute_result"
    }
   ],
   "source": [
    "get_middle_of_the_word('very')"
   ]
  },
  {
   "cell_type": "code",
   "execution_count": 56,
   "id": "3d4721de",
   "metadata": {},
   "outputs": [
    {
     "data": {
      "text/plain": [
       "'ng'"
      ]
     },
     "execution_count": 56,
     "metadata": {},
     "output_type": "execute_result"
    }
   ],
   "source": [
    "get_middle_of_the_word('very_long_string')"
   ]
  },
  {
   "cell_type": "code",
   "execution_count": 57,
   "id": "19e003fc",
   "metadata": {},
   "outputs": [
    {
     "data": {
      "text/plain": [
       "''"
      ]
     },
     "execution_count": 57,
     "metadata": {},
     "output_type": "execute_result"
    }
   ],
   "source": [
    "get_middle_of_the_word('')"
   ]
  },
  {
   "cell_type": "code",
   "execution_count": null,
   "id": "a6e14a1c",
   "metadata": {},
   "outputs": [],
   "source": []
  }
 ],
 "metadata": {
  "kernelspec": {
   "display_name": "Python 3 (ipykernel)",
   "language": "python",
   "name": "python3"
  },
  "language_info": {
   "codemirror_mode": {
    "name": "ipython",
    "version": 3
   },
   "file_extension": ".py",
   "mimetype": "text/x-python",
   "name": "python",
   "nbconvert_exporter": "python",
   "pygments_lexer": "ipython3",
   "version": "3.7.4"
  }
 },
 "nbformat": 4,
 "nbformat_minor": 5
}
