{
 "cells": [
  {
   "cell_type": "markdown",
   "id": "42b07bda",
   "metadata": {},
   "source": [
    "## Первое задание"
   ]
  },
  {
   "cell_type": "code",
   "execution_count": 56,
   "id": "ba997127",
   "metadata": {},
   "outputs": [],
   "source": [
    "def get_unique_items(dictionary):\n",
    "    return {item for items_list in dictionary.values() for item in items_list}"
   ]
  },
  {
   "cell_type": "code",
   "execution_count": 57,
   "id": "0151d865",
   "metadata": {},
   "outputs": [
    {
     "data": {
      "text/plain": [
       "{15, 35, 54, 98, 119, 213}"
      ]
     },
     "execution_count": 57,
     "metadata": {},
     "output_type": "execute_result"
    }
   ],
   "source": [
    "ids = {\n",
    "    'user1': [213, 213, 213, 15, 213],\n",
    "    'user2': [54, 54, 119, 119, 119],\n",
    "    'user3': [213, 98, 98, 35]\n",
    "}\n",
    "get_unique_items(ids)"
   ]
  },
  {
   "cell_type": "markdown",
   "id": "a260ce4b",
   "metadata": {},
   "source": [
    "## Второе задание"
   ]
  },
  {
   "cell_type": "code",
   "execution_count": 60,
   "id": "23c81aea",
   "metadata": {},
   "outputs": [],
   "source": [
    "def get_words_distribution(phrases):\n",
    "    # Словарь, хранящий в качестве ключей кол-во слов в запросах,\n",
    "    # а в качестве значений - кол-во запросов с этим кол-вом слов\n",
    "    phrases_amounts = {}\n",
    "    \n",
    "    for phrase in phrases:\n",
    "        # Считаем кол-во слов в поисковом запросе (очищенным от лишних пробелов)\n",
    "        words_count = len(re.sub(' +', ' ', phrase).split(' '))\n",
    "        \n",
    "        # Увиличиваем кол-во поисковых запросов с этим кол-вом слов на 1\n",
    "        phrases_amounts[words_count] = phrases_amounts.get(words_count, 0) + 1\n",
    "    \n",
    "    all_phrases_count = len(phrases)\n",
    "    for words_count, phrases_amount in phrases_amounts.items():\n",
    "        phrases_percent = f'{(phrases_amount / all_phrases_count):.2%}'\n",
    "        print(f'Поисковых запросов, содержащих {words_count} слов(а): ' + phrases_percent)"
   ]
  },
  {
   "cell_type": "code",
   "execution_count": 61,
   "id": "179797aa",
   "metadata": {},
   "outputs": [
    {
     "name": "stdout",
     "output_type": "stream",
     "text": [
      "Поисковых запросов, содержащих 3 слов(а): 57.14%\n",
      "Поисковых запросов, содержащих 2 слов(а): 42.86%\n"
     ]
    }
   ],
   "source": [
    "queries = [\n",
    "    'смотреть сериалы онлайн',\n",
    "    'новости спорта',\n",
    "    'афиша кино',\n",
    "    'курс доллара',\n",
    "    'сериалы этим летом',\n",
    "    'курс по питону',\n",
    "    'сериалы про спорт'\n",
    "]\n",
    "\n",
    "get_words_distribution(queries)"
   ]
  },
  {
   "cell_type": "code",
   "execution_count": null,
   "id": "1108825b",
   "metadata": {},
   "outputs": [],
   "source": []
  }
 ],
 "metadata": {
  "kernelspec": {
   "display_name": "Python 3 (ipykernel)",
   "language": "python",
   "name": "python3"
  },
  "language_info": {
   "codemirror_mode": {
    "name": "ipython",
    "version": 3
   },
   "file_extension": ".py",
   "mimetype": "text/x-python",
   "name": "python",
   "nbconvert_exporter": "python",
   "pygments_lexer": "ipython3",
   "version": "3.7.4"
  }
 },
 "nbformat": 4,
 "nbformat_minor": 5
}
